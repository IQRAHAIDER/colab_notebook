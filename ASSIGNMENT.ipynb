{
  "nbformat": 4,
  "nbformat_minor": 0,
  "metadata": {
    "colab": {
      "provenance": [],
      "authorship_tag": "ABX9TyORTOAOQSWwnaDDtlyJs2W+",
      "include_colab_link": true
    },
    "kernelspec": {
      "name": "python3",
      "display_name": "Python 3"
    },
    "language_info": {
      "name": "python"
    }
  },
  "cells": [
    {
      "cell_type": "markdown",
      "metadata": {
        "id": "view-in-github",
        "colab_type": "text"
      },
      "source": [
        "<a href=\"https://colab.research.google.com/github/IQRAHAIDER/colab_notebook/blob/main/ASSIGNMENT.ipynb\" target=\"_parent\"><img src=\"https://colab.research.google.com/assets/colab-badge.svg\" alt=\"Open In Colab\"/></a>"
      ]
    },
    {
      "cell_type": "code",
      "execution_count": null,
      "metadata": {
        "id": "5u2YUkFCSsgT",
        "colab": {
          "base_uri": "https://localhost:8080/"
        },
        "outputId": "8160bc84-9f11-4186-f846-ee23ce30a8bc"
      },
      "outputs": [
        {
          "output_type": "stream",
          "name": "stdout",
          "text": [
            "40\n",
            "<class 'int'>\n"
          ]
        }
      ],
      "source": [
        "# data types\n",
        "# 1. numeric\n",
        "var_int=40\n",
        "print(var_int)\n",
        "print(type(var_int))\n"
      ]
    },
    {
      "cell_type": "code",
      "source": [
        "var_int=2.45\n",
        "print(var_int)\n",
        "print(type(var_int))"
      ],
      "metadata": {
        "colab": {
          "base_uri": "https://localhost:8080/"
        },
        "id": "G-vlWmi9ejIi",
        "outputId": "1c5734ef-8ec7-426b-a742-de081ea81eff"
      },
      "execution_count": null,
      "outputs": [
        {
          "output_type": "stream",
          "name": "stdout",
          "text": [
            "2.45\n",
            "<class 'float'>\n"
          ]
        }
      ]
    },
    {
      "cell_type": "code",
      "source": [
        "var_int=43+4j\n",
        "print(var_int)\n",
        "print(type(var_int))\n"
      ],
      "metadata": {
        "colab": {
          "base_uri": "https://localhost:8080/"
        },
        "id": "X_g68IsqfVhA",
        "outputId": "faf23ab1-ecce-42d8-a37d-6e27127593c4"
      },
      "execution_count": null,
      "outputs": [
        {
          "output_type": "stream",
          "name": "stdout",
          "text": [
            "(43+4j)\n",
            "<class 'complex'>\n"
          ]
        }
      ]
    },
    {
      "cell_type": "code",
      "source": [
        "# 2. string\n",
        "var_string='saliha'\n",
        "print(var_string)\n",
        "print(type(var_string))\n"
      ],
      "metadata": {
        "colab": {
          "base_uri": "https://localhost:8080/"
        },
        "id": "gQ00OBylfpxT",
        "outputId": "90bb1d8e-5972-4844-c7fc-eff37a18f3b1"
      },
      "execution_count": null,
      "outputs": [
        {
          "output_type": "stream",
          "name": "stdout",
          "text": [
            "saliha\n",
            "<class 'str'>\n"
          ]
        }
      ]
    },
    {
      "cell_type": "code",
      "source": [
        "# 3.  boolean\n",
        "var_int=True\n",
        "print(var_int)\n",
        "print(type(var_int))\n"
      ],
      "metadata": {
        "colab": {
          "base_uri": "https://localhost:8080/"
        },
        "id": "BUz9y2INgr_1",
        "outputId": "39a49384-df10-4caa-f3c8-c8f0766c51ef"
      },
      "execution_count": null,
      "outputs": [
        {
          "output_type": "stream",
          "name": "stdout",
          "text": [
            "True\n",
            "<class 'bool'>\n"
          ]
        }
      ]
    },
    {
      "cell_type": "code",
      "source": [
        "# 4. sequence/collections\n",
        "ages=[30,28,47]\n",
        "print(ages)\n",
        "print(type(ages))\n"
      ],
      "metadata": {
        "id": "AjE10cZLiCad",
        "colab": {
          "base_uri": "https://localhost:8080/"
        },
        "outputId": "1b77948f-5bc5-430c-b1b0-f460251fa7ee"
      },
      "execution_count": null,
      "outputs": [
        {
          "output_type": "stream",
          "name": "stdout",
          "text": [
            "[30, 28, 47]\n",
            "<class 'list'>\n"
          ]
        }
      ]
    },
    {
      "cell_type": "code",
      "source": [
        "ages=[38,40,12]\n",
        "print(ages)\n",
        "print(type(ages))\n"
      ],
      "metadata": {
        "colab": {
          "base_uri": "https://localhost:8080/"
        },
        "id": "ABfhF5Ct4qmt",
        "outputId": "6cf700c2-b537-4d4a-bd11-92a873b0daad"
      },
      "execution_count": null,
      "outputs": [
        {
          "output_type": "stream",
          "name": "stdout",
          "text": [
            "[38, 40, 12]\n",
            "<class 'list'>\n"
          ]
        }
      ]
    },
    {
      "cell_type": "code",
      "source": [
        "ages=range(5,21)\n",
        "print(ages)\n",
        "print(type(ages))\n"
      ],
      "metadata": {
        "colab": {
          "base_uri": "https://localhost:8080/"
        },
        "id": "2GeFd2pf5O2r",
        "outputId": "15d3729b-735b-470f-c7f2-0820b7efb34a"
      },
      "execution_count": null,
      "outputs": [
        {
          "output_type": "stream",
          "name": "stdout",
          "text": [
            "range(5, 21)\n",
            "<class 'range'>\n"
          ]
        }
      ]
    }
  ]
}